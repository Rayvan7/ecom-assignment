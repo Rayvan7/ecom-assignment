{
 "cells": [
  {
   "cell_type": "markdown",
   "id": "f35ef551-9dc3-4eb3-a490-80ce9b4963eb",
   "metadata": {},
   "source": [
    "# Importing Basic Package"
   ]
  },
  {
   "cell_type": "code",
   "execution_count": 23,
   "id": "ec16ebe6-b984-49ab-900e-74ece3be7941",
   "metadata": {},
   "outputs": [],
   "source": [
    "import pandas as pd\n",
    "from sklearn.metrics.pairwise import cosine_similarity\n",
    "from sklearn.preprocessing import StandardScaler"
   ]
  },
  {
   "cell_type": "markdown",
   "id": "42bb8508-21db-4284-bd40-796f7505028c",
   "metadata": {},
   "source": [
    "# Load the data"
   ]
  },
  {
   "cell_type": "code",
   "execution_count": 25,
   "id": "c80843a4-5dad-405f-9862-f114ab1dc9ac",
   "metadata": {},
   "outputs": [],
   "source": [
    "customers = pd.read_csv('Customers.csv')\n",
    "transactions = pd.read_csv('Transactions.csv')"
   ]
  },
  {
   "cell_type": "markdown",
   "id": "495f656e-f876-4281-a5d8-d0123077ec6f",
   "metadata": {},
   "source": [
    "# Merge transactions with customers to get customer details"
   ]
  },
  {
   "cell_type": "code",
   "execution_count": 27,
   "id": "1f962d6d-5daf-49c1-bdbb-8d39e21ae5d0",
   "metadata": {},
   "outputs": [],
   "source": [
    "merged_data = pd.merge(transactions, customers, on='CustomerID')"
   ]
  },
  {
   "cell_type": "markdown",
   "id": "5213761c-cb6a-474a-a923-3b668aaa7e30",
   "metadata": {},
   "source": [
    "# Feature Engineering"
   ]
  },
  {
   "cell_type": "code",
   "execution_count": 29,
   "id": "70025564-299f-4ef4-853e-3d562cc9004a",
   "metadata": {},
   "outputs": [],
   "source": [
    "customer_features = merged_data.groupby('CustomerID').agg({\n",
    "    'TotalValue': ['sum', 'mean'],\n",
    "    'Quantity': ['sum', 'mean'],\n",
    "    'ProductID': 'nunique'\n",
    "}).reset_index()\n",
    "\n",
    "customer_features.columns = ['CustomerID', 'TotalSpending', 'AvgTransactionValue', 'TotalQuantity', 'AvgQuantity', 'UniqueProducts']"
   ]
  },
  {
   "cell_type": "markdown",
   "id": "ecfaedfe-52aa-450c-8242-5a428337d7c6",
   "metadata": {},
   "source": [
    "# Merge with customer profile information"
   ]
  },
  {
   "cell_type": "code",
   "execution_count": 31,
   "id": "3a5ac10e-e37f-46e1-a18b-06f9bfa4ce6a",
   "metadata": {},
   "outputs": [],
   "source": [
    "customer_features = pd.merge(customer_features, customers, on='CustomerID')"
   ]
  },
  {
   "cell_type": "markdown",
   "id": "e8548a32-455d-4773-b4e4-0c648f73d1c9",
   "metadata": {},
   "source": [
    "# Encode categorical variables (Region)"
   ]
  },
  {
   "cell_type": "code",
   "execution_count": 33,
   "id": "7ab3b0c6-7aaf-4d88-884a-5751607dfa0d",
   "metadata": {},
   "outputs": [],
   "source": [
    "customer_features = pd.get_dummies(customer_features, columns=['Region'])"
   ]
  },
  {
   "cell_type": "markdown",
   "id": "8cee92cf-a836-4868-84da-0cf78c188408",
   "metadata": {},
   "source": [
    "# Normalize the features"
   ]
  },
  {
   "cell_type": "code",
   "execution_count": 35,
   "id": "d9e4ea45-b97e-4524-94b4-663656f515c0",
   "metadata": {},
   "outputs": [],
   "source": [
    "scaler = StandardScaler()\n",
    "scaled_features = scaler.fit_transform(customer_features.drop(columns=['CustomerID', 'CustomerName', 'SignupDate']))"
   ]
  },
  {
   "cell_type": "markdown",
   "id": "f2ccdb8e-4700-4f26-bb28-58fc937fad7c",
   "metadata": {},
   "source": [
    "# Calculate similarity matrix"
   ]
  },
  {
   "cell_type": "code",
   "execution_count": 39,
   "id": "198fa9fb-8706-4338-84ea-ec8914dd3f6a",
   "metadata": {},
   "outputs": [],
   "source": [
    "similarity_matrix = cosine_similarity(scaled_features)"
   ]
  },
  {
   "cell_type": "markdown",
   "id": "8fae9efb-3fff-4d7e-bbfe-cb34e9a65153",
   "metadata": {},
   "source": [
    "# Create a DataFrame for similarity scores"
   ]
  },
  {
   "cell_type": "code",
   "execution_count": 41,
   "id": "67fb1b57-1f48-4771-a2b3-c7fbb4dce3fc",
   "metadata": {},
   "outputs": [],
   "source": [
    "similarity_df = pd.DataFrame(similarity_matrix, index=customer_features['CustomerID'], columns=customer_features['CustomerID'])"
   ]
  },
  {
   "cell_type": "markdown",
   "id": "ae4519b0-8cb5-4114-b1cc-2637cfe637b4",
   "metadata": {},
   "source": [
    "# Function to get top 3 similar customers"
   ]
  },
  {
   "cell_type": "code",
   "execution_count": 43,
   "id": "3db5c7bd-c675-4db8-bd32-729424153fde",
   "metadata": {},
   "outputs": [],
   "source": [
    "def get_top_similar_customers(customer_id, similarity_df, top_n=3):\n",
    "    similar_customers = similarity_df[customer_id].sort_values(ascending=False).iloc[1:top_n+1]\n",
    "    return similar_customers.index.tolist(), similar_customers.values.tolist()"
   ]
  },
  {
   "cell_type": "markdown",
   "id": "0b705f25-0571-4aa3-bd9b-9ae9f5390bbd",
   "metadata": {},
   "source": [
    "# Generate recommendations for the first 20 customers"
   ]
  },
  {
   "cell_type": "code",
   "execution_count": 45,
   "id": "efa8ebf7-e8bd-4a58-a935-911b1ba6fd7e",
   "metadata": {},
   "outputs": [],
   "source": [
    "lookalike_map = {}\n",
    "for customer_id in customer_features['CustomerID'][:20]:\n",
    "    similar_customers, scores = get_top_similar_customers(customer_id, similarity_df)\n",
    "    lookalike_map[customer_id] = list(zip(similar_customers, scores))"
   ]
  },
  {
   "cell_type": "markdown",
   "id": "2ada7168-776a-4d9d-a7e6-d4ea6b6d0432",
   "metadata": {},
   "source": [
    "# Save to CSV"
   ]
  },
  {
   "cell_type": "code",
   "execution_count": 47,
   "id": "68a72a8a-fd53-449c-8e13-e15af3afb995",
   "metadata": {},
   "outputs": [],
   "source": [
    "lookalike_df = pd.DataFrame(lookalike_map.items(), columns=['CustomerID', 'Lookalikes'])\n",
    "lookalike_df.to_csv('Rayvan_Kumar_V_Lookalike.csv', index=False)"
   ]
  },
  {
   "cell_type": "code",
   "execution_count": null,
   "id": "c556c022-eae6-4da9-8039-6f791a51f2e4",
   "metadata": {},
   "outputs": [],
   "source": []
  },
  {
   "cell_type": "code",
   "execution_count": null,
   "id": "c0ed99df-37f7-4f18-ba87-86d7bdaad636",
   "metadata": {},
   "outputs": [],
   "source": []
  },
  {
   "cell_type": "code",
   "execution_count": null,
   "id": "98634b14-bfe7-4b6d-a6e2-7b7daa22f634",
   "metadata": {},
   "outputs": [],
   "source": []
  },
  {
   "cell_type": "code",
   "execution_count": null,
   "id": "ed5e0a7f-4d07-495a-95ab-13a2c63e24ab",
   "metadata": {},
   "outputs": [],
   "source": []
  },
  {
   "cell_type": "code",
   "execution_count": null,
   "id": "ff3b99f4-1db0-4185-b3f3-6641fe00a690",
   "metadata": {},
   "outputs": [],
   "source": []
  },
  {
   "cell_type": "code",
   "execution_count": null,
   "id": "5ffd8abe-a6bc-4bef-8bec-baa8ced5e5ac",
   "metadata": {},
   "outputs": [],
   "source": []
  },
  {
   "cell_type": "code",
   "execution_count": null,
   "id": "308c8c37-36f4-43de-872b-6f9c40312a2b",
   "metadata": {},
   "outputs": [],
   "source": []
  },
  {
   "cell_type": "code",
   "execution_count": null,
   "id": "4b953df6-1d0f-4873-a3da-38c64d0c349c",
   "metadata": {},
   "outputs": [],
   "source": []
  },
  {
   "cell_type": "code",
   "execution_count": null,
   "id": "ebcf0437-bc1a-4272-9624-302ddc74286e",
   "metadata": {},
   "outputs": [],
   "source": []
  },
  {
   "cell_type": "code",
   "execution_count": null,
   "id": "9c9ec17f-4bc1-4a99-81f4-73f38bd04fa4",
   "metadata": {},
   "outputs": [],
   "source": []
  },
  {
   "cell_type": "code",
   "execution_count": null,
   "id": "31082a44-85a6-4d1a-a243-db9b44d543af",
   "metadata": {},
   "outputs": [],
   "source": []
  },
  {
   "cell_type": "code",
   "execution_count": null,
   "id": "eadc0ce9-5efe-478b-8be4-715dacb31c20",
   "metadata": {},
   "outputs": [],
   "source": []
  },
  {
   "cell_type": "code",
   "execution_count": null,
   "id": "14bf8fd0-9b64-4205-9e46-6ce4a3695b17",
   "metadata": {},
   "outputs": [],
   "source": []
  },
  {
   "cell_type": "code",
   "execution_count": null,
   "id": "6ea19016-a3d9-4b09-9777-56a2ecd95ebe",
   "metadata": {},
   "outputs": [],
   "source": []
  },
  {
   "cell_type": "code",
   "execution_count": null,
   "id": "27aa3833-24ad-48e6-bd72-640d24964a87",
   "metadata": {},
   "outputs": [],
   "source": []
  },
  {
   "cell_type": "code",
   "execution_count": null,
   "id": "c30b3305-9f02-4787-9465-19d552062402",
   "metadata": {},
   "outputs": [],
   "source": []
  },
  {
   "cell_type": "code",
   "execution_count": null,
   "id": "77fec3c1-22bb-421e-bc60-ef3e9f50b736",
   "metadata": {},
   "outputs": [],
   "source": []
  },
  {
   "cell_type": "code",
   "execution_count": null,
   "id": "fd8efc9e-d0ef-45ee-9c4a-a97245237a41",
   "metadata": {},
   "outputs": [],
   "source": []
  },
  {
   "cell_type": "code",
   "execution_count": null,
   "id": "89c62c8d-bade-4bd0-bbcd-ecaf20eb5a7d",
   "metadata": {},
   "outputs": [],
   "source": []
  },
  {
   "cell_type": "code",
   "execution_count": null,
   "id": "e724b921-2c71-42a0-8b21-13e731c97260",
   "metadata": {},
   "outputs": [],
   "source": []
  },
  {
   "cell_type": "code",
   "execution_count": null,
   "id": "63ae48ec-a3b7-4715-aea1-e954f9872ab8",
   "metadata": {},
   "outputs": [],
   "source": []
  }
 ],
 "metadata": {
  "kernelspec": {
   "display_name": "Python [conda env:base] *",
   "language": "python",
   "name": "conda-base-py"
  },
  "language_info": {
   "codemirror_mode": {
    "name": "ipython",
    "version": 3
   },
   "file_extension": ".py",
   "mimetype": "text/x-python",
   "name": "python",
   "nbconvert_exporter": "python",
   "pygments_lexer": "ipython3",
   "version": "3.12.7"
  }
 },
 "nbformat": 4,
 "nbformat_minor": 5
}
